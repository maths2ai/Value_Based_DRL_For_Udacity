{
 "cells": [
  {
   "cell_type": "markdown",
   "metadata": {},
   "source": [
    "# Navigation\n",
    "\n",
    "---\n",
    "\n",
    "You are welcome to use this coding environment to train your agent for the project.  Follow the instructions below to get started!\n",
    "\n",
    "### 1. Start the Environment\n",
    "\n",
    "Run the next code cell to install a few packages.  This line will take a few minutes to run!"
   ]
  },
  {
   "cell_type": "code",
   "execution_count": 1,
   "metadata": {},
   "outputs": [
    {
     "name": "stdout",
     "output_type": "stream",
     "text": [
      "\u001b[31mtensorflow 1.7.1 has requirement numpy>=1.13.3, but you'll have numpy 1.12.1 which is incompatible.\u001b[0m\r\n",
      "\u001b[31mipython 6.5.0 has requirement prompt-toolkit<2.0.0,>=1.0.15, but you'll have prompt-toolkit 3.0.7 which is incompatible.\u001b[0m\r\n"
     ]
    }
   ],
   "source": [
    "!pip -q install ./python"
   ]
  },
  {
   "cell_type": "markdown",
   "metadata": {},
   "source": [
    "The environment is already saved in the Workspace and can be accessed at the file path provided below.  Please run the next code cell without making any changes."
   ]
  },
  {
   "cell_type": "code",
   "execution_count": 2,
   "metadata": {},
   "outputs": [
    {
     "name": "stderr",
     "output_type": "stream",
     "text": [
      "INFO:unityagents:\n",
      "'Academy' started successfully!\n",
      "Unity Academy name: Academy\n",
      "        Number of Brains: 1\n",
      "        Number of External Brains : 1\n",
      "        Lesson number : 0\n",
      "        Reset Parameters :\n",
      "\t\t\n",
      "Unity brain name: BananaBrain\n",
      "        Number of Visual Observations (per agent): 0\n",
      "        Vector Observation space type: continuous\n",
      "        Vector Observation space size (per agent): 37\n",
      "        Number of stacked Vector Observation: 1\n",
      "        Vector Action space type: discrete\n",
      "        Vector Action space size (per agent): 4\n",
      "        Vector Action descriptions: , , , \n"
     ]
    }
   ],
   "source": [
    "from unityagents import UnityEnvironment\n",
    "import numpy as np\n",
    "\n",
    "# please do not modify the line below\n",
    "env = UnityEnvironment(file_name=\"/data/Banana_Linux_NoVis/Banana.x86_64\")"
   ]
  },
  {
   "cell_type": "markdown",
   "metadata": {},
   "source": [
    "Environments contain **_brains_** which are responsible for deciding the actions of their associated agents. Here we check for the first brain available, and set it as the default brain we will be controlling from Python."
   ]
  },
  {
   "cell_type": "code",
   "execution_count": 3,
   "metadata": {},
   "outputs": [],
   "source": [
    "# get the default brain\n",
    "brain_name = env.brain_names[0]\n",
    "brain = env.brains[brain_name]"
   ]
  },
  {
   "cell_type": "markdown",
   "metadata": {},
   "source": [
    "### 2. Examine the State and Action Spaces\n",
    "\n",
    "Run the code cell below to print some information about the environment."
   ]
  },
  {
   "cell_type": "code",
   "execution_count": 4,
   "metadata": {},
   "outputs": [
    {
     "name": "stdout",
     "output_type": "stream",
     "text": [
      "Number of agents: 1\n",
      "Number of actions: 4\n",
      "States look like: [ 1.          0.          0.          0.          0.84408134  0.          0.\n",
      "  1.          0.          0.0748472   0.          1.          0.          0.\n",
      "  0.25755     1.          0.          0.          0.          0.74177343\n",
      "  0.          1.          0.          0.          0.25854847  0.          0.\n",
      "  1.          0.          0.09355672  0.          1.          0.          0.\n",
      "  0.31969345  0.          0.        ]\n",
      "States have length: 37\n"
     ]
    }
   ],
   "source": [
    "# reset the environment\n",
    "env_info = env.reset(train_mode=True)[brain_name]\n",
    "\n",
    "# number of agents in the environment\n",
    "print('Number of agents:', len(env_info.agents))\n",
    "\n",
    "# number of actions\n",
    "action_size = brain.vector_action_space_size\n",
    "print('Number of actions:', action_size)\n",
    "\n",
    "# examine the state space \n",
    "state = env_info.vector_observations[0]\n",
    "print('States look like:', state)\n",
    "state_size = len(state)\n",
    "print('States have length:', state_size)"
   ]
  },
  {
   "cell_type": "markdown",
   "metadata": {},
   "source": [
    "### 3. Take Random Actions in the Environment\n",
    "\n",
    "In the next code cell, you will learn how to use the Python API to control the agent and receive feedback from the environment.\n",
    "\n",
    "Note that **in this coding environment, you will not be able to watch the agent while it is training**, and you should set `train_mode=True` to restart the environment."
   ]
  },
  {
   "cell_type": "code",
   "execution_count": 5,
   "metadata": {},
   "outputs": [
    {
     "name": "stdout",
     "output_type": "stream",
     "text": [
      "Score: 1.0\n"
     ]
    }
   ],
   "source": [
    "env_info = env.reset(train_mode=True)[brain_name] # reset the environment\n",
    "state = env_info.vector_observations[0]            # get the current state\n",
    "score = 0                                          # initialize the score\n",
    "while True:\n",
    "    action = np.random.randint(action_size)        # select an action\n",
    "    env_info = env.step(action)[brain_name]        # send the action to the environment\n",
    "    next_state = env_info.vector_observations[0]   # get the next state\n",
    "    reward = env_info.rewards[0]                   # get the reward\n",
    "    done = env_info.local_done[0]                  # see if episode has finished\n",
    "    score += reward                                # update the score\n",
    "    state = next_state                             # roll over the state to next time step\n",
    "    if done:                                       # exit loop if episode finished\n",
    "        break\n",
    "    \n",
    "print(\"Score: {}\".format(score))"
   ]
  },
  {
   "cell_type": "code",
   "execution_count": 6,
   "metadata": {},
   "outputs": [
    {
     "data": {
      "text/plain": [
       "37"
      ]
     },
     "execution_count": 6,
     "metadata": {},
     "output_type": "execute_result"
    }
   ],
   "source": [
    "brain.vector_observation_space_size"
   ]
  },
  {
   "cell_type": "code",
   "execution_count": 7,
   "metadata": {},
   "outputs": [
    {
     "name": "stdout",
     "output_type": "stream",
     "text": [
      "[ 0.          1.          0.          0.          0.59000909  0.          1.\n",
      "  0.          0.          0.86335975  1.          0.          0.          0.\n",
      "  0.02599395  0.          0.          1.          0.          0.15619929\n",
      "  1.          0.          0.          0.          0.33563313  0.          0.\n",
      "  1.          0.          0.67392349  0.          1.          0.          0.\n",
      "  0.89596486  0.          0.        ]\n"
     ]
    }
   ],
   "source": [
    "print(env_info.vector_observations[0])"
   ]
  },
  {
   "cell_type": "markdown",
   "metadata": {},
   "source": [
    "When finished, you can close the environment."
   ]
  },
  {
   "cell_type": "code",
   "execution_count": null,
   "metadata": {},
   "outputs": [],
   "source": [
    "env.close()"
   ]
  },
  {
   "cell_type": "markdown",
   "metadata": {},
   "source": [
    "### 4. It's Your Turn!\n",
    "\n",
    "Now it's your turn to train your own agent to solve the environment!  A few **important notes**:\n",
    "- When training the environment, set `train_mode=True`, so that the line for resetting the environment looks like the following:\n",
    "```python\n",
    "env_info = env.reset(train_mode=True)[brain_name]\n",
    "```\n",
    "- To structure your work, you're welcome to work directly in this Jupyter notebook, or you might like to start over with a new file!  You can see the list of files in the workspace by clicking on **_Jupyter_** in the top left corner of the notebook.\n",
    "- In this coding environment, you will not be able to watch the agent while it is training.  However, **_after training the agent_**, you can download the saved model weights to watch the agent on your own machine! "
   ]
  },
  {
   "cell_type": "code",
   "execution_count": 8,
   "metadata": {},
   "outputs": [],
   "source": [
    "# Importing section\n",
    "\n",
    "import torch\n",
    "import torch.nn as nn\n",
    "import torch.nn.functional as F\n",
    "import torch.optim\n",
    "\n",
    "import random\n",
    "import numpy as np\n",
    "\n",
    "from collections import deque, namedtuple"
   ]
  },
  {
   "cell_type": "markdown",
   "metadata": {},
   "source": [
    "# Device section"
   ]
  },
  {
   "cell_type": "code",
   "execution_count": 9,
   "metadata": {},
   "outputs": [],
   "source": [
    "device = torch.device('cuda:0' if torch.cuda.is_available() else 'cpu')"
   ]
  },
  {
   "cell_type": "markdown",
   "metadata": {},
   "source": [
    "# Hyper - parameters"
   ]
  },
  {
   "cell_type": "code",
   "execution_count": 10,
   "metadata": {},
   "outputs": [],
   "source": [
    "Buffer_size = int (1e5)\n",
    "Batch_size = 64\n",
    "Gamma = 0.99\n",
    "Tau = 1e-3\n",
    "Update_Every = 4\n",
    "LR = 5e-4"
   ]
  },
  {
   "cell_type": "markdown",
   "metadata": {},
   "source": [
    "# Net"
   ]
  },
  {
   "cell_type": "code",
   "execution_count": 11,
   "metadata": {},
   "outputs": [],
   "source": [
    "class QNetwork(nn.Module):\n",
    "    \n",
    "    def __init__(self, state_size, action_size, seed , hidden_layer_1 = 256, hidden_layer_2 = 128):\n",
    "        super(QNetwork, self).__init__()\n",
    "        \n",
    "        self.state_size = state_size\n",
    "        self.action_size = action_size\n",
    "        self.hidden_layer_1 = hidden_layer_1\n",
    "        self.hidden_layer_2 = hidden_layer_2       \n",
    "   \n",
    "        self.seed = torch.manual_seed(seed)\n",
    "        \n",
    "        self.fc1 = nn.Linear(self.state_size, self.hidden_layer_1)\n",
    "        self.fc2 = nn.Linear(self.hidden_layer_1, self.hidden_layer_2)\n",
    "        self.value = nn.Linear(self.hidden_layer_2, self.action_size)\n",
    "        self.adv = nn.Linear(self.hidden_layer_2, self.action_size)\n",
    "        \n",
    "    def forward(self, state):\n",
    "        state = F.relu(self.fc1(state))\n",
    "        state = F.relu(self.fc2(state))\n",
    "        final = self.value(state) + (self.adv(state) - self.adv(state).mean())\n",
    "        return final"
   ]
  },
  {
   "cell_type": "markdown",
   "metadata": {},
   "source": [
    "# Buffer"
   ]
  },
  {
   "cell_type": "code",
   "execution_count": 12,
   "metadata": {},
   "outputs": [],
   "source": [
    "class ReplayBuffer():\n",
    "    \n",
    "    def __init__(self, Buffer_dim, Batch_size, seed):\n",
    "        \n",
    "        self.Buffer_dim = Buffer_dim\n",
    "        self.Batch_size = Batch_size\n",
    "        self.Buffer = deque(maxlen = self.Buffer_dim)\n",
    "        self.experience = namedtuple('Experience', field_names = ['state', 'action', 'reward', 'next_state', 'is_done'])\n",
    "        self.seed = seed\n",
    "        \n",
    "    def add(self, state, action, reward, next_state, is_done):\n",
    "        \n",
    "        e = self.experience(state, action, reward, next_state, is_done)\n",
    "        self.Buffer.append(e)\n",
    "        return\n",
    "    \n",
    "    def sample(self):\n",
    "        \n",
    "        experiences = random.sample(self.Buffer, k = self.Batch_size)\n",
    "        \n",
    "        states = torch.from_numpy(np.vstack([exp.state for exp in experiences if exp is not None])).float().to(device)\n",
    "        actions = torch.from_numpy(np.vstack([exp.action for exp in experiences if exp is not None])).long().to(device)\n",
    "        rewards = torch.from_numpy(np.vstack([exp.reward for exp in experiences if exp is not None])).float().to(device)\n",
    "        next_states = torch.from_numpy(np.vstack([exp.next_state for exp in experiences if exp is not None])).float().to(device)\n",
    "        is_dones = torch.from_numpy(np.vstack([np.float32(exp.is_done) for exp in experiences if exp is not None])).float().to(device)\n",
    "        \n",
    "        return (states, actions, rewards, next_states, is_dones)\n",
    "    \n",
    "    def __len__(self):\n",
    "        \n",
    "        return len(self.Buffer)"
   ]
  },
  {
   "cell_type": "markdown",
   "metadata": {},
   "source": [
    "# Agent"
   ]
  },
  {
   "cell_type": "code",
   "execution_count": 13,
   "metadata": {},
   "outputs": [],
   "source": [
    "class Agent():\n",
    "    \n",
    "    def __init__(self, state_space_dim, action_space_dim, seed):\n",
    "        \n",
    "        self.state_space_dim = state_space_dim\n",
    "        self.action_space_dim = action_space_dim   \n",
    "        self.seed = random.seed(seed)\n",
    "        \n",
    "        self.memory = ReplayBuffer(Buffer_size, Batch_size, seed)\n",
    "        self.Q_network = QNetwork(self.state_space_dim, self.action_space_dim, seed).to(device)\n",
    "        self.Q_network_target = QNetwork(self.state_space_dim, self.action_space_dim, seed).to(device)\n",
    "        self.optimizer = torch.optim.Adam(self.Q_network.parameters(), lr=LR)\n",
    "        \n",
    "    def act(self, state, eps):\n",
    "        \n",
    "        # We bring states to torch to have them in the correct format for the net. Notice also we use \n",
    "        # unsqueeze to make it into batch format\n",
    "        \n",
    "        state = torch.from_numpy(state).float().unsqueeze(0).to(device)\n",
    "        self.Q_network.eval()\n",
    "        with torch.no_grad():\n",
    "            set_of_actions = self.Q_network(state)\n",
    "        self.Q_network.train()\n",
    "        \n",
    "        # Make everything into cpu and using copies is necessary to use numpy for argmax\n",
    "        \n",
    "        set_of_actions = set_of_actions.cpu().data.numpy()\n",
    "        \n",
    "        if random.random() <= eps:\n",
    "            action = np.random.choice(np.arange(self.action_space_dim))\n",
    "        else:\n",
    "            action = np.argmax(set_of_actions)\n",
    "\n",
    "        return action\n",
    "    \n",
    "    def Step(self, state, action, reward, next_state, is_done, count):\n",
    "        # We add the tuple into the memory buffer, if it is the case we update\n",
    "        self.memory.add(state, action, reward, next_state, is_done)\n",
    "        \n",
    "        if (len(self.memory) > Batch_size) and (count % Update_Every == 0):\n",
    "            batch = self.memory.sample()\n",
    "            loss = self.learn(batch, Gamma)\n",
    "            return loss\n",
    "        return None\n",
    "    \n",
    "    def ddqn_selection(self, next_states, QNet):\n",
    "        \n",
    "        actions = QNet(next_states)\n",
    "        actions = actions.cpu().data.numpy()\n",
    "        actions = np.argmax(actions, axis = 1)\n",
    "        actions = torch.from_numpy(actions).long().to(device).unsqueeze(1)\n",
    "        return actions\n",
    "    \n",
    "    def learn(self, experiences, gamma):\n",
    "        \n",
    "        states, actions, rewards, next_states, is_dones = experiences\n",
    "        # We use detach to not let it backpropagate through the net\n",
    "        \n",
    "        actions_for_Q_network_target = self.ddqn_selection(next_states, self.Q_network)\n",
    "        Q_targets_next = self.Q_network_target(next_states).gather(1,actions_for_Q_network_target)\n",
    "        Q_next_state = rewards + (gamma*Q_targets_next*(1-is_dones))\n",
    "        Q_state_action = self.Q_network(states).gather(1, actions)\n",
    "        \n",
    "        loss = F.mse_loss(Q_state_action, Q_next_state)\n",
    "        self.optimizer.zero_grad()\n",
    "        loss.backward()\n",
    "        self.optimizer.step()\n",
    "        \n",
    "        self.soft_update(self.Q_network, self.Q_network_target, Tau)\n",
    "        \n",
    "        return loss\n",
    "        \n",
    "    def soft_update(self, model, target_model, tau):\n",
    "        for target_param, local_param in zip(target_model.parameters(), model.parameters()):\n",
    "            target_param.data.copy_(tau*local_param.data +(1.0 - tau)*target_param.data)\n",
    "        return"
   ]
  },
  {
   "cell_type": "code",
   "execution_count": 14,
   "metadata": {},
   "outputs": [],
   "source": [
    "Agent = Agent(brain.vector_observation_space_size, brain.vector_action_space_size, 1)"
   ]
  },
  {
   "cell_type": "markdown",
   "metadata": {},
   "source": [
    "# Main"
   ]
  },
  {
   "cell_type": "code",
   "execution_count": 15,
   "metadata": {},
   "outputs": [],
   "source": [
    "# DQN Algorithm\n",
    "\n",
    "def ddqn (n_episodes = 20000, n_steps_episodes = 10000, eps_start = 1.0, eps_end = 0.01, eps_decay = 0.995):\n",
    "    \n",
    "    scores = [] # List of scores for plotting\n",
    "    scores_deq = deque(maxlen = 100) # Deque useful to compute\n",
    "    eps = eps_start\n",
    "    count = 1\n",
    "    \n",
    "    for episode in range(1, n_episodes+1):\n",
    "        \n",
    "        env_info = env.reset(train_mode=True)[brain_name]\n",
    "        state = env_info.vector_observations[0]\n",
    "        score = 0\n",
    "        \n",
    "        for step in range(1, n_steps_episodes + 1):\n",
    "            count += 1\n",
    "            action = Agent.act(state, eps)\n",
    "            env_info = env.step(action)[brain_name]\n",
    "            next_state = env_info.vector_observations[0]\n",
    "            reward = env_info.rewards[0]\n",
    "            is_done = env_info.local_done[0]\n",
    "            loss = Agent.Step(state, action, reward, next_state, is_done, count)\n",
    "            state = next_state\n",
    "            score += reward\n",
    "            \n",
    "            if is_done:\n",
    "                break\n",
    "                \n",
    "        scores_deq.append(score)\n",
    "        scores.append(score)  \n",
    "        eps = max(eps_end, eps*eps_decay)\n",
    "        \n",
    "        print('\\rEpisode {}\\tAverage Score: {:.2f}'.format(episode, np.mean(scores_deq)), end=\"\")\n",
    "        \n",
    "        if episode % 100 == 0:\n",
    "            print('\\rEpisode {}\\tAverage Score: {:.2f}'.format(episode, np.mean(scores_deq)))\n",
    "                                \n",
    "        if (np.mean(scores_deq)>=13.0) and (len(scores_deq) >= 100):\n",
    "            print('\\nEnvironment solved in {:d} episodes!\\tAverage Score: {:.2f}'.format(episode, np.mean(scores_deq)))\n",
    "            torch.save(Agent.Q_network.state_dict(), 'checkpoint.pth')\n",
    "            break\n",
    "    \n",
    "    return scores          "
   ]
  },
  {
   "cell_type": "code",
   "execution_count": 16,
   "metadata": {},
   "outputs": [
    {
     "name": "stdout",
     "output_type": "stream",
     "text": [
      "Episode 100\tAverage Score: 0.79\n",
      "Episode 200\tAverage Score: 4.29\n",
      "Episode 300\tAverage Score: 7.74\n",
      "Episode 400\tAverage Score: 10.47\n",
      "Episode 500\tAverage Score: 12.67\n",
      "Episode 517\tAverage Score: 13.06\n",
      "Environment solved in 517 episodes!\tAverage Score: 13.06\n"
     ]
    }
   ],
   "source": [
    "scores = ddqn(800)"
   ]
  },
  {
   "cell_type": "code",
   "execution_count": 17,
   "metadata": {},
   "outputs": [],
   "source": [
    "import matplotlib.pyplot as plt"
   ]
  },
  {
   "cell_type": "code",
   "execution_count": 18,
   "metadata": {},
   "outputs": [
    {
     "data": {
      "image/png": "[encoded data removed]",
      "text/plain": [
       "<matplotlib.figure.Figure at 0x7f5a368ae8d0>"
      ]
     },
     "metadata": {
      "needs_background": "light"
     },
     "output_type": "display_data"
    }
   ],
   "source": [
    "fig = plt.figure()\n",
    "ax = fig.add_subplot(111)\n",
    "plt.plot(np.arange(1, len(scores)+1), scores)\n",
    "plt.ylabel('Score')\n",
    "plt.xlabel('Episode #')\n",
    "plt.show()"
   ]
  },
  {
   "cell_type": "code",
   "execution_count": null,
   "metadata": {},
   "outputs": [],
   "source": []
  }
 ],
 "metadata": {
  "kernelspec": {
   "display_name": "Python 3",
   "language": "python",
   "name": "python3"
  },
  "language_info": {
   "codemirror_mode": {
    "name": "ipython",
    "version": 3
   },
   "file_extension": ".py",
   "mimetype": "text/x-python",
   "name": "python",
   "nbconvert_exporter": "python",
   "pygments_lexer": "ipython3",
   "version": "3.6.3"
  }
 },
 "nbformat": 4,
 "nbformat_minor": 2
}
